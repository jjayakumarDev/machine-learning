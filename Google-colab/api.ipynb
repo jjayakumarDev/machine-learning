{
  "nbformat": 4,
  "nbformat_minor": 0,
  "metadata": {
    "colab": {
      "name": "api.ipynb",
      "provenance": [],
      "collapsed_sections": []
    },
    "kernelspec": {
      "name": "python3",
      "display_name": "Python 3"
    },
    "language_info": {
      "name": "python"
    }
  },
  "cells": [
    {
      "cell_type": "code",
      "metadata": {
        "colab": {
          "base_uri": "https://localhost:8080/"
        },
        "id": "OGi1ycAv6Ug5",
        "outputId": "51856186-0507-4b65-b632-0e3256ea0ffd"
      },
      "source": [
        "!pip install flask\n",
        "import flask\n",
        "from IPython import get_ipython"
      ],
      "execution_count": null,
      "outputs": [
        {
          "output_type": "stream",
          "text": [
            "Requirement already satisfied: flask in /usr/local/lib/python3.7/dist-packages (1.1.2)\n",
            "Requirement already satisfied: Jinja2>=2.10.1 in /usr/local/lib/python3.7/dist-packages (from flask) (2.11.3)\n",
            "Requirement already satisfied: itsdangerous>=0.24 in /usr/local/lib/python3.7/dist-packages (from flask) (1.1.0)\n",
            "Requirement already satisfied: Werkzeug>=0.15 in /usr/local/lib/python3.7/dist-packages (from flask) (1.0.1)\n",
            "Requirement already satisfied: click>=5.1 in /usr/local/lib/python3.7/dist-packages (from flask) (7.1.2)\n",
            "Requirement already satisfied: MarkupSafe>=0.23 in /usr/local/lib/python3.7/dist-packages (from Jinja2>=2.10.1->flask) (1.1.1)\n"
          ],
          "name": "stdout"
        }
      ]
    },
    {
      "cell_type": "code",
      "metadata": {
        "id": "0NMePBRV6ctx",
        "colab": {
          "base_uri": "https://localhost:8080/"
        },
        "outputId": "48caa702-0567-4877-c11d-7d05ffb218ca"
      },
      "source": [
        "!wget https://bin.equinox.io/c/4VmDzA7iaHb/ngrok-stable-linux-amd64.zip\n",
        "!unzip -o ngrok-stable-linux-amd64.zip\n",
        "!touch app.py\n",
        "with open('/content/app.py', 'w') as writefile:\n",
        "    writefile.write(\"from flask import Flask, jsonify\\nimport base64\\napp = Flask(__name__)\\n\\n\\n@app.route('/')\\ndef index():\\n\\tdata = open(\\\"/content/data.txt\\\", \\\"r+\\\")\\n\\tdata = str(data.read())\\n\\tjson = data.split(',')\\n\\twith open(\\\"/content/1.png\\\", \\\"rb\\\") as img_file:\\n\\t\\tb64_string = base64.b64encode(img_file.read())\\n\\timage = b64_string.decode('utf-8')\\n\\tres = jsonify(cbow=json[0], lstm=json[1], cnn_lstm=json[2], image=image)\\n\\tres.headers.add(\\\"Access-Control-Allow-Origin\\\", \\\"*\\\")\\n\\treturn res\\n\\nif __name__ == '__main__':\\n\\tapp.run()\")\n",
        "!touch data.txt\n",
        "get_ipython().system_raw('python app.py &')\n",
        "get_ipython().system_raw('./ngrok http 5000 &')"
      ],
      "execution_count": null,
      "outputs": [
        {
          "output_type": "stream",
          "text": [
            "--2021-04-24 21:16:25--  https://bin.equinox.io/c/4VmDzA7iaHb/ngrok-stable-linux-amd64.zip\n",
            "Resolving bin.equinox.io (bin.equinox.io)... 54.209.238.187, 50.19.119.19, 3.223.68.239, ...\n",
            "Connecting to bin.equinox.io (bin.equinox.io)|54.209.238.187|:443... connected.\n",
            "HTTP request sent, awaiting response... 200 OK\n",
            "Length: 13828408 (13M) [application/octet-stream]\n",
            "Saving to: ‘ngrok-stable-linux-amd64.zip’\n",
            "\n",
            "ngrok-stable-linux- 100%[===================>]  13.19M  17.9MB/s    in 0.7s    \n",
            "\n",
            "2021-04-24 21:16:26 (17.9 MB/s) - ‘ngrok-stable-linux-amd64.zip’ saved [13828408/13828408]\n",
            "\n",
            "Archive:  ngrok-stable-linux-amd64.zip\n",
            "  inflating: ngrok                   \n"
          ],
          "name": "stdout"
        }
      ]
    },
    {
      "cell_type": "code",
      "metadata": {
        "id": "aXJyCKQ5v3dY",
        "colab": {
          "base_uri": "https://localhost:8080/",
          "height": 554
        },
        "outputId": "71277e27-9e8b-47be-929c-9813eb2f1665"
      },
      "source": [
        "import numpy as np\n",
        "import pandas as pd\n",
        "import matplotlib.pyplot as plt\n",
        "np.random.seed(32)\n",
        "\n",
        "from sklearn.model_selection import train_test_split\n",
        "from sklearn.metrics import roc_auc_score\n",
        "from sklearn.manifold import TSNE\n",
        "\n",
        "from keras.preprocessing.text import Tokenizer\n",
        "from keras.preprocessing.sequence import pad_sequences\n",
        "from keras.layers import LSTM, Conv1D, MaxPooling1D, Dropout\n",
        "from keras.utils.np_utils import to_categorical\n",
        "\n",
        "from keras.layers import Dense, Input, Flatten\n",
        "from keras.layers import GlobalAveragePooling1D, Embedding\n",
        "from keras.models import Model\n",
        "\n",
        "from keras import backend as K\n",
        "import matplotlib.pyplot as plt\n",
        "\n",
        "import io\n",
        "import requests\n",
        "\n",
        "url=\"https://ml-nci.s3.amazonaws.com/GrammarandProductReviews.csv\"\n",
        "s=requests.get(url).content\n",
        "df=pd.read_csv(io.StringIO(s.decode('utf-8')))\n",
        "\n",
        "df.head()\n",
        "\n",
        "plt.hist(df['reviews.rating'])\n",
        "\n",
        "df['target'] = df['reviews.rating'] < 4\n",
        "\n",
        "print(df['target'])\n",
        "\n",
        "train_text, test_text, train_y, test_y = train_test_split(df['reviews.text'], df['target'], test_size=0.2)\n",
        "\n",
        "train_text.shape\n",
        "\n",
        "MAX_NB_WORDS = 20000\n",
        "\n",
        "# get the raw text data\n",
        "texts_train = train_text.astype(str)\n",
        "texts_test = test_text.astype(str)\n",
        "\n",
        "# finally, vectorize the text samples into a 2D integer tensor\n",
        "tokenizer = Tokenizer(nb_words=MAX_NB_WORDS, char_level=False)\n",
        "tokenizer.fit_on_texts(texts_train)\n",
        "sequences = tokenizer.texts_to_sequences(texts_train)\n",
        "sequences_test = tokenizer.texts_to_sequences(texts_test)\n",
        "\n",
        "word_index = tokenizer.word_index\n",
        "print('Found %s unique tokens.' % len(word_index))\n",
        "\n",
        "sequences[0]\n",
        "\n",
        "type(tokenizer.word_index), len(tokenizer.word_index)\n",
        "\n",
        "index_to_word = dict((i, w) for w, i in tokenizer.word_index.items())\n",
        "\n",
        "\" \".join([index_to_word[i] for i in sequences[0]])\n",
        "\n",
        "seq_lens = [len(s) for s in sequences]\n",
        "print(\"average length: %0.1f\" % np.mean(seq_lens))\n",
        "print(\"max length: %d\" % max(seq_lens))"
      ],
      "execution_count": null,
      "outputs": [
        {
          "output_type": "stream",
          "text": [
            "0        False\n",
            "1        False\n",
            "2        False\n",
            "3         True\n",
            "4         True\n",
            "         ...  \n",
            "71039    False\n",
            "71040    False\n",
            "71041    False\n",
            "71042    False\n",
            "71043    False\n",
            "Name: target, Length: 71044, dtype: bool\n"
          ],
          "name": "stdout"
        },
        {
          "output_type": "stream",
          "text": [
            "/usr/local/lib/python3.7/dist-packages/keras_preprocessing/text.py:180: UserWarning: The `nb_words` argument in `Tokenizer` has been renamed `num_words`.\n",
            "  warnings.warn('The `nb_words` argument in `Tokenizer` '\n"
          ],
          "name": "stderr"
        },
        {
          "output_type": "stream",
          "text": [
            "Found 26057 unique tokens.\n",
            "average length: 39.4\n",
            "max length: 1034\n"
          ],
          "name": "stdout"
        },
        {
          "output_type": "display_data",
          "data": {
            "image/png": "[encoded data removed]",
            "text/plain": [
              "<Figure size 432x288 with 1 Axes>"
            ]
          },
          "metadata": {
            "tags": [],
            "needs_background": "light"
          }
        }
      ]
    },
    {
      "cell_type": "code",
      "metadata": {
        "colab": {
          "base_uri": "https://localhost:8080/",
          "height": 265
        },
        "id": "If4t5iQWzkGN",
        "outputId": "dc8142ac-8dc0-4645-9fd7-b61261e52c4d"
      },
      "source": [
        "plt.hist(seq_lens, bins=50);"
      ],
      "execution_count": null,
      "outputs": [
        {
          "output_type": "display_data",
          "data": {
            "image/png": "[encoded data removed]",
            "text/plain": [
              "<Figure size 432x288 with 1 Axes>"
            ]
          },
          "metadata": {
            "tags": [],
            "needs_background": "light"
          }
        }
      ]
    },
    {
      "cell_type": "code",
      "metadata": {
        "colab": {
          "base_uri": "https://localhost:8080/",
          "height": 265
        },
        "id": "6--oYHznzsce",
        "outputId": "be83e43b-ee92-4116-ccdc-90309a0fba28"
      },
      "source": [
        "plt.hist([l for l in seq_lens if l < 200], bins=50);"
      ],
      "execution_count": null,
      "outputs": [
        {
          "output_type": "display_data",
          "data": {
            "image/png": "[encoded data removed]",
            "text/plain": [
              "<Figure size 432x288 with 1 Axes>"
            ]
          },
          "metadata": {
            "tags": [],
            "needs_background": "light"
          }
        }
      ]
    },
    {
      "cell_type": "code",
      "metadata": {
        "colab": {
          "base_uri": "https://localhost:8080/"
        },
        "id": "QkE579ZjzuZP",
        "outputId": "f9c0a432-aeee-48be-b65e-8c9c23b41ea8"
      },
      "source": [
        "MAX_SEQUENCE_LENGTH = 150\n",
        "\n",
        "# pad sequences with 0s\n",
        "x_train = pad_sequences(sequences, maxlen=MAX_SEQUENCE_LENGTH)\n",
        "x_test = pad_sequences(sequences_test, maxlen=MAX_SEQUENCE_LENGTH)\n",
        "print('Shape of data tensor:', x_train.shape)\n",
        "print('Shape of data test tensor:', x_test.shape)\n",
        "\n",
        "y_train = train_y\n",
        "y_test = test_y\n",
        "\n",
        "y_train = to_categorical(np.asarray(y_train))\n",
        "print('Shape of label tensor:', y_train.shape)"
      ],
      "execution_count": null,
      "outputs": [
        {
          "output_type": "stream",
          "text": [
            "Shape of data tensor: (56835, 150)\n",
            "Shape of data test tensor: (14209, 150)\n",
            "Shape of label tensor: (56835, 2)\n"
          ],
          "name": "stdout"
        }
      ]
    },
    {
      "cell_type": "code",
      "metadata": {
        "colab": {
          "base_uri": "https://localhost:8080/"
        },
        "id": "X_R3oArWz-RF",
        "outputId": "b195db0d-2410-4709-93df-cf9e375a839b"
      },
      "source": [
        "from keras.layers import Dense, Input, Flatten\n",
        "from keras.layers import GlobalAveragePooling1D, Embedding\n",
        "from keras.models import Model\n",
        "\n",
        "EMBEDDING_DIM = 50\n",
        "N_CLASSES = 2\n",
        "\n",
        "# input: a sequence of MAX_SEQUENCE_LENGTH integers\n",
        "sequence_input = Input(shape=(MAX_SEQUENCE_LENGTH,), dtype='int32')\n",
        "\n",
        "embedding_layer = Embedding(MAX_NB_WORDS, EMBEDDING_DIM,\n",
        "                            input_length=MAX_SEQUENCE_LENGTH,\n",
        "                            trainable=True)\n",
        "embedded_sequences = embedding_layer(sequence_input)\n",
        "\n",
        "average = GlobalAveragePooling1D()(embedded_sequences)\n",
        "predictions = Dense(N_CLASSES, activation='softmax')(average)\n",
        "\n",
        "model = Model(sequence_input, predictions)\n",
        "model.compile(loss='categorical_crossentropy',\n",
        "              optimizer='adam', metrics=['acc'])\n",
        "model.fit(x_train, y_train, validation_split=0.1,\n",
        "          epochs=10, batch_size=128)\n",
        "output_test = model.predict(x_test)\n",
        "print(\"auc:\", roc_auc_score(y_test,output_test[:,1]))\n",
        "cbow = roc_auc_score(y_test,output_test[:,1])"
      ],
      "execution_count": null,
      "outputs": [
        {
          "output_type": "stream",
          "text": [
            "Epoch 1/10\n",
            "400/400 [==============================] - 9s 20ms/step - loss: 0.4758 - acc: 0.8421 - val_loss: 0.3615 - val_acc: 0.8621\n",
            "Epoch 2/10\n",
            "400/400 [==============================] - 7s 17ms/step - loss: 0.3396 - acc: 0.8676 - val_loss: 0.3078 - val_acc: 0.8761\n",
            "Epoch 3/10\n",
            "400/400 [==============================] - 7s 18ms/step - loss: 0.2796 - acc: 0.8862 - val_loss: 0.2716 - val_acc: 0.8900\n",
            "Epoch 4/10\n",
            "400/400 [==============================] - 7s 17ms/step - loss: 0.2433 - acc: 0.9014 - val_loss: 0.2545 - val_acc: 0.9008\n",
            "Epoch 5/10\n",
            "400/400 [==============================] - 7s 18ms/step - loss: 0.2215 - acc: 0.9107 - val_loss: 0.2456 - val_acc: 0.9025\n",
            "Epoch 6/10\n",
            "400/400 [==============================] - 7s 18ms/step - loss: 0.2094 - acc: 0.9152 - val_loss: 0.2392 - val_acc: 0.9064\n",
            "Epoch 7/10\n",
            "400/400 [==============================] - 7s 17ms/step - loss: 0.1976 - acc: 0.9221 - val_loss: 0.2359 - val_acc: 0.9083\n",
            "Epoch 8/10\n",
            "400/400 [==============================] - 7s 17ms/step - loss: 0.1936 - acc: 0.9251 - val_loss: 0.2347 - val_acc: 0.9113\n",
            "Epoch 9/10\n",
            "400/400 [==============================] - 7s 18ms/step - loss: 0.1799 - acc: 0.9317 - val_loss: 0.2344 - val_acc: 0.9124\n",
            "Epoch 10/10\n",
            "400/400 [==============================] - 7s 17ms/step - loss: 0.1751 - acc: 0.9332 - val_loss: 0.2325 - val_acc: 0.9122\n",
            "auc: 0.9120493319487815\n"
          ],
          "name": "stdout"
        }
      ]
    },
    {
      "cell_type": "code",
      "metadata": {
        "id": "rWhkVT9g0NeR",
        "colab": {
          "base_uri": "https://localhost:8080/"
        },
        "outputId": "87dfd1c5-effb-4801-a337-5b52246e9d09"
      },
      "source": [
        "# input: a sequence of MAX_SEQUENCE_LENGTH integers\n",
        "sequence_input = Input(shape=(MAX_SEQUENCE_LENGTH,), dtype='int32')\n",
        "embedded_sequences = embedding_layer(sequence_input)\n",
        "\n",
        "x = LSTM(128, dropout=0.2, recurrent_dropout=0.2)(embedded_sequences)\n",
        "predictions = Dense(2, activation='softmax')(x)\n",
        "\n",
        "\n",
        "model = Model(sequence_input, predictions)\n",
        "model.compile(loss='categorical_crossentropy',\n",
        "              optimizer='adam',\n",
        "              metrics=['acc'])\n",
        "model.fit(x_train, y_train, validation_split=0.1,\n",
        "          epochs=2, batch_size=128)\n",
        "output_test = model.predict(x_test)\n",
        "print(\"auc:\", roc_auc_score(y_test,output_test[:,1]))\n",
        "lstm = roc_auc_score(y_test,output_test[:,1])"
      ],
      "execution_count": null,
      "outputs": [
        {
          "output_type": "stream",
          "text": [
            "Epoch 1/2\n",
            "400/400 [==============================] - 296s 735ms/step - loss: 0.2197 - acc: 0.9188 - val_loss: 0.2286 - val_acc: 0.9136\n",
            "Epoch 2/2\n",
            "400/400 [==============================] - 296s 739ms/step - loss: 0.1623 - acc: 0.9396 - val_loss: 0.2558 - val_acc: 0.8997\n",
            "auc: 0.9147704639146433\n"
          ],
          "name": "stdout"
        }
      ]
    },
    {
      "cell_type": "code",
      "metadata": {
        "colab": {
          "base_uri": "https://localhost:8080/"
        },
        "id": "v16iUsBF0ZyB",
        "outputId": "26cc2cdc-023e-46e3-ff34-9e398792644a"
      },
      "source": [
        "# input: a sequence of MAX_SEQUENCE_LENGTH integers\n",
        "sequence_input = Input(shape=(MAX_SEQUENCE_LENGTH,), dtype='int32')\n",
        "embedded_sequences = embedding_layer(sequence_input)\n",
        "\n",
        "# 1D convolution with 64 output channels\n",
        "x = Conv1D(64, 5)(embedded_sequences)\n",
        "# MaxPool divides the length of the sequence by 5\n",
        "x = MaxPooling1D(5)(x)\n",
        "x = Dropout(0.2)(x)\n",
        "x = Conv1D(64, 5)(x)\n",
        "x = MaxPooling1D(5)(x)\n",
        "# LSTM layer with a hidden size of 64\n",
        "x = Dropout(0.2)(x)\n",
        "x = LSTM(64)(x)\n",
        "predictions = Dense(2, activation='softmax')(x)\n",
        "\n",
        "model = Model(sequence_input, predictions)\n",
        "model.compile(loss='categorical_crossentropy',\n",
        "              optimizer='adam',\n",
        "              metrics=['acc'])\n",
        "model.fit(x_train, y_train, validation_split=0.1,\n",
        "          epochs=5, batch_size=128)\n",
        "output_test = model.predict(x_test)\n",
        "print(\"auc:\", roc_auc_score(y_test,output_test[:,1]))\n",
        "cnn_lstm = roc_auc_score(y_test,output_test[:,1])"
      ],
      "execution_count": null,
      "outputs": [
        {
          "output_type": "stream",
          "text": [
            "Epoch 1/5\n",
            "400/400 [==============================] - 38s 90ms/step - loss: 0.2215 - acc: 0.9153 - val_loss: 0.2354 - val_acc: 0.9110\n",
            "Epoch 2/5\n",
            "400/400 [==============================] - 35s 88ms/step - loss: 0.1644 - acc: 0.9380 - val_loss: 0.2381 - val_acc: 0.9145\n",
            "Epoch 3/5\n",
            "400/400 [==============================] - 35s 88ms/step - loss: 0.1478 - acc: 0.9455 - val_loss: 0.2437 - val_acc: 0.9119\n",
            "Epoch 4/5\n",
            "400/400 [==============================] - 36s 89ms/step - loss: 0.1390 - acc: 0.9496 - val_loss: 0.2592 - val_acc: 0.9145\n",
            "Epoch 5/5\n",
            "400/400 [==============================] - 36s 89ms/step - loss: 0.1253 - acc: 0.9559 - val_loss: 0.2723 - val_acc: 0.9106\n",
            "auc: 0.8958309193030759\n"
          ],
          "name": "stdout"
        }
      ]
    },
    {
      "cell_type": "code",
      "metadata": {
        "id": "3N934r2x1BPu",
        "colab": {
          "base_uri": "https://localhost:8080/",
          "height": 329
        },
        "outputId": "d6578f0f-b30a-4b9c-9041-0c7b086e8977"
      },
      "source": [
        "from keras import backend as K\n",
        "get_emb_layer_output = K.function([model.layers[0].input],\n",
        "                                  [model.layers[2].input])\n",
        "embedding_output = get_emb_layer_output([x_test[:3000]])[0]\n",
        "emb_shape = embedding_output.shape\n",
        "to_plot_embedding = embedding_output.reshape(emb_shape[0],emb_shape[1]*emb_shape[2])\n",
        "y = y_test[:3000]\n",
        "sentence_emb_tsne = TSNE(perplexity=30).fit_transform(to_plot_embedding)\n",
        "print(sentence_emb_tsne.shape)\n",
        "print(y.shape)\n",
        "plt.figure()\n",
        "plt.scatter(sentence_emb_tsne[np.where(y == 0), 0],\n",
        "                   sentence_emb_tsne[np.where(y == 0), 1],\n",
        "                   marker='x', color='blue',\n",
        "                   linewidth='1', alpha=0.8, label='Happy')\n",
        "plt.scatter(sentence_emb_tsne[np.where(y == 1), 0],\n",
        "                   sentence_emb_tsne[np.where(y == 1), 1],\n",
        "                   marker='v', color='yellow',\n",
        "                   linewidth='1', alpha=0.8, label='Unhappy')\n",
        "\n",
        "plt.xlabel('Dim 1')\n",
        "plt.ylabel('Dim 2')\n",
        "plt.title('T-SNE')\n",
        "plt.legend(loc='best')\n",
        "plt.savefig('1.png')\n",
        "plt.show()"
      ],
      "execution_count": null,
      "outputs": [
        {
          "output_type": "stream",
          "text": [
            "(3000, 2)\n",
            "(3000,)\n"
          ],
          "name": "stdout"
        },
        {
          "output_type": "display_data",
          "data": {
            "image/png": "[encoded data removed]",
            "text/plain": [
              "<Figure size 432x288 with 1 Axes>"
            ]
          },
          "metadata": {
            "tags": [],
            "needs_background": "light"
          }
        }
      ]
    },
    {
      "cell_type": "code",
      "metadata": {
        "id": "XMUWc-1VOmso"
      },
      "source": [
        "cbowstr = str(cbow)\n",
        "lstmstr = str(lstm)\n",
        "cnn_lstmstr = str(cnn_lstm)\n",
        "s = cbowstr+\",\"+lstmstr+\",\"+cnn_lstmstr\n",
        "with open('/content/data.txt', 'w') as writefile:\n",
        "    writefile.write(s)"
      ],
      "execution_count": null,
      "outputs": []
    },
    {
      "cell_type": "code",
      "metadata": {
        "colab": {
          "base_uri": "https://localhost:8080/"
        },
        "id": "amtCsuzGA6-T",
        "outputId": "172c38dc-0c81-472c-9694-d89375ebc40f"
      },
      "source": [
        "! curl -s http://localhost:4040/api/tunnels | python3 -c \\\n",
        "    \"import sys, json; print(json.load(sys.stdin)['tunnels'][0]['public_url'])\""
      ],
      "execution_count": null,
      "outputs": [
        {
          "output_type": "stream",
          "text": [
            "https://d6aa18d6b372.ngrok.io\n"
          ],
          "name": "stdout"
        }
      ]
    },
    {
      "cell_type": "code",
      "metadata": {
        "colab": {
          "base_uri": "https://localhost:8080/"
        },
        "id": "lqBvjMMvsFSP",
        "outputId": "e1bfe6ee-c566-42b5-bb22-2b395fca92dd"
      },
      "source": [
        "file1 = open(\"/content/data.txt\",\"r+\") \n",
        "print(\"Output of Read function is \")\n",
        "print(file1.read())"
      ],
      "execution_count": null,
      "outputs": [
        {
          "output_type": "stream",
          "text": [
            "Output of Read function is \n",
            "0.9120493319487815,0.9147704639146433,0.8958309193030759\n"
          ],
          "name": "stdout"
        }
      ]
    }
  ]
}